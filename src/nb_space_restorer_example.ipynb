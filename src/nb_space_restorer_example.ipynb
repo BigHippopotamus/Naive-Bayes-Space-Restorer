{
  "cells": [
    {
      "cell_type": "code",
      "execution_count": 18,
      "metadata": {
        "id": "1D255YoxV3a4"
      },
      "outputs": [],
      "source": [
        "import csv\n",
        "import sys\n",
        "\n",
        "import pandas as pd\n",
        "from IPython.display import clear_output\n",
        "from sklearn.model_selection import ParameterGrid"
      ]
    },
    {
      "cell_type": "code",
      "execution_count": 19,
      "metadata": {
        "colab": {
          "base_uri": "https://localhost:8080/"
        },
        "id": "HQBB3CuZV9j4",
        "outputId": "400bf212-731a-4254-d67f-251de2bddac7"
      },
      "outputs": [
        {
          "name": "stdout",
          "output_type": "stream",
          "text": [
            "Looking in indexes: https://pypi.org/simple, https://us-python.pkg.dev/colab-wheels/public/simple/\n",
            "Requirement already satisfied: python-memo in /usr/local/lib/python3.7/dist-packages (0.1.0)\n"
          ]
        }
      ],
      "source": [
        "!pip install python-memo"
      ]
    },
    {
      "cell_type": "markdown",
      "metadata": {
        "id": "AWui7QwMWMuf"
      },
      "source": [
        "Get NBSpaceRestorer"
      ]
    },
    {
      "cell_type": "code",
      "execution_count": 20,
      "metadata": {
        "colab": {
          "base_uri": "https://localhost:8080/"
        },
        "id": "U1VFPQjFWItW",
        "outputId": "33ecab13-3e1d-46ab-96fe-752fd2db4b55"
      },
      "outputs": [
        {
          "name": "stdout",
          "output_type": "stream",
          "text": [
            "Cloning into 'naive-bayes-space-restorer'...\n",
            "remote: Enumerating objects: 74, done.\u001b[K\n",
            "remote: Counting objects: 100% (74/74), done.\u001b[K\n",
            "remote: Compressing objects: 100% (49/49), done.\u001b[K\n",
            "remote: Total 74 (delta 31), reused 59 (delta 19), pack-reused 0\u001b[K\n",
            "Unpacking objects: 100% (74/74), done.\n"
          ]
        }
      ],
      "source": [
        "# Get NBSpaceRestorer\n",
        "!rm -rf 'naive-bayes-space-restorer'\n",
        "!git clone https://github.com/ljdyer/naive-bayes-space-restorer.git\n",
        "sys.path.append('naive-bayes-space-restorer/src')\n",
        "from nb_space_restorer import NBSpaceRestorer"
      ]
    },
    {
      "cell_type": "code",
      "execution_count": 22,
      "metadata": {
        "colab": {
          "base_uri": "https://localhost:8080/"
        },
        "id": "chIaE1nJWYcK",
        "outputId": "44fe5750-a934-42de-a861-cd5e22250e78"
      },
      "outputs": [
        {
          "name": "stdout",
          "output_type": "stream",
          "text": [
            "Drive already mounted at /content/drive; to attempt to forcibly remount, call drive.mount(\"/content/drive\", force_remount=True).\n"
          ]
        }
      ],
      "source": [
        "from google.colab import drive\n",
        "drive.mount('/content/drive')"
      ]
    },
    {
      "cell_type": "code",
      "execution_count": 23,
      "metadata": {
        "id": "BhuxgahmWY-m"
      },
      "outputs": [],
      "source": [
        "TRAIN_PATH = 'drive/MyDrive/PAPER/data/ted_talks/ted_train.csv'\n",
        "TEST_PATH = 'drive/MyDrive/PAPER/data/ted_talks/ted_test.csv'"
      ]
    },
    {
      "cell_type": "code",
      "execution_count": 24,
      "metadata": {
        "id": "tZpOSpCBWcb1"
      },
      "outputs": [],
      "source": [
        "train_df = pd.read_csv(TRAIN_PATH)\n",
        "test_df = pd.read_csv(TEST_PATH)"
      ]
    },
    {
      "cell_type": "code",
      "execution_count": 25,
      "metadata": {
        "id": "HgSyz1gJWfrt"
      },
      "outputs": [],
      "source": [
        "train_texts = train_df['all_cleaned'].to_list()"
      ]
    },
    {
      "cell_type": "markdown",
      "metadata": {
        "id": "2nWPXmlfDU-t"
      },
      "source": [
        "## Initialize an instance of NBSpaceRestorer"
      ]
    },
    {
      "cell_type": "markdown",
      "metadata": {
        "id": "5e4w5kFQDBFe"
      },
      "source": [
        "#### Example 1: Train a model with new texts"
      ]
    },
    {
      "cell_type": "code",
      "execution_count": 26,
      "metadata": {
        "colab": {
          "base_uri": "https://localhost:8080/"
        },
        "id": "M3qIBWXWWkwc",
        "outputId": "b2714930-cb1e-4ef3-cc1b-627a756fed4f"
      },
      "outputs": [
        {
          "name": "stdout",
          "output_type": "stream",
          "text": [
            "Training complete.\n"
          ]
        }
      ],
      "source": [
        "NB_Ted = NBSpaceRestorer(\n",
        "    train_texts=train_texts,\n",
        "    save_path='drive/MyDrive/PAPER/models/01_nb/ted_train.pickle',\n",
        "    L=20,\n",
        "    lambda_=10.0,\n",
        "    ignore_case=True\n",
        ")"
      ]
    },
    {
      "cell_type": "markdown",
      "metadata": {
        "id": "-pqjhkrDDH-F"
      },
      "source": [
        "#### Example 2: Load a trained model"
      ]
    },
    {
      "cell_type": "code",
      "execution_count": 27,
      "metadata": {
        "colab": {
          "base_uri": "https://localhost:8080/"
        },
        "id": "b7c5L5bZWlxN",
        "outputId": "252f8bcc-b1dd-448d-da4a-ede45abdb838"
      },
      "outputs": [
        {
          "name": "stdout",
          "output_type": "stream",
          "text": [
            "Warning: ignore_case option can only be specified in initial model training. ignore_case option was ignored.\n",
            "Finished loading model.\n"
          ]
        }
      ],
      "source": [
        "NB_Ted = NBSpaceRestorer(\n",
        "    load_path='drive/MyDrive/PAPER/models/01_nb/ted_train.pickle',\n",
        "    L=15,\n",
        "    lambda_=12,\n",
        "    ignore_case=False\n",
        ")"
      ]
    },
    {
      "cell_type": "markdown",
      "metadata": {
        "id": "iOJ73XPFDL-l"
      },
      "source": [
        "#### Example 3: Change model hyperparameters"
      ]
    },
    {
      "cell_type": "code",
      "execution_count": 28,
      "metadata": {
        "id": "UPWdeGaDXdIb"
      },
      "outputs": [],
      "source": [
        "NB_Ted.L = 17\n",
        "NB_Ted.lambda_ = 14"
      ]
    },
    {
      "cell_type": "markdown",
      "metadata": {
        "id": "t_JqCchJDQOu"
      },
      "source": [
        "### Run inference on new texts"
      ]
    },
    {
      "cell_type": "code",
      "execution_count": 29,
      "metadata": {
        "id": "m-OK80Q_cGWr"
      },
      "outputs": [],
      "source": [
        "test_texts = test_df['no_spaces'].to_list()[:10]"
      ]
    },
    {
      "cell_type": "code",
      "execution_count": 30,
      "metadata": {
        "colab": {
          "base_uri": "https://localhost:8080/",
          "height": 49,
          "referenced_widgets": [
            "fa14f37c38d04133abf6f4dc6ea2a3c2",
            "94ba229415914e7aacd05ecdd8541f7b",
            "ebeabf73e0204110a236a149b27f1a37",
            "59bc89949b3f4806b0e0f8e8ed20d6e3",
            "0288c2f0b195474ba79aa92b95d4bdb7",
            "8da89e5418334537bd7a997666168488",
            "cc8c35db06aa48eabcc8bf11fd0985f1",
            "ba2efd76682744e09508e868923100b5",
            "4b90b31f8efc409fb663ee10ccdd2ac7",
            "9a873edad1da49469997041a56f7e102",
            "dceda2ab3234480d93bd4e81d600b58f"
          ]
        },
        "id": "tOTOU8V7cH4T",
        "outputId": "07776dcd-be18-49e2-8329-18ac16a31f43"
      },
      "outputs": [
        {
          "data": {
            "application/vnd.jupyter.widget-view+json": {
              "model_id": "fa14f37c38d04133abf6f4dc6ea2a3c2",
              "version_major": 2,
              "version_minor": 0
            },
            "text/plain": [
              "  0%|          | 0/10 [00:00<?, ?it/s]"
            ]
          },
          "metadata": {},
          "output_type": "display_data"
        }
      ],
      "source": [
        "hyp = NB_Ted.restore(test_texts)"
      ]
    },
    {
      "cell_type": "code",
      "execution_count": 32,
      "metadata": {
        "colab": {
          "base_uri": "https://localhost:8080/",
          "height": 105
        },
        "id": "bCYCusorcf97",
        "outputId": "c1bcf683-377c-4da8-8d2d-8eca73dd264f"
      },
      "outputs": [
        {
          "data": {
            "application/vnd.google.colaboratory.intrinsic+json": {
              "type": "string"
            },
            "text/plain": [
              "'on november 5th 1990 a man named elsayyidnosair walked into a hotel in manhattan and assassinated rabbi meir kahane the leader of the jewish defense league nos air was initially found notguilty of the murder but while serving time on lesser charge she and other men began planning attacks on a dozen new york city landmarks including tunnels synagogues and the united nations headquarters thankfully those plans were foiled by an fbi informant sadly the 1993 bombing of the world trade center was not nos air would eventually be convicted for his involvement in the plot elsayyidnosair is my father i was born in pittsburgh pennsylvania in 1983 to him an egyptian engineer and a loving american mother and grade school teacher who together tried their best to create a happy childhood for me it wasnt until i was seven years old that our family dynamic started to change my father exposed me to a side of islam that few people including the majority of muslims get to see its been my experience that when people take the time to interact with one another it doesnt take long to realize that for the most part we all want the same things out of life however in every religion in every population youll find a small percentage of people who hold so fervently to their beliefs that they feel they must use any means necessary to make others live as they do a few months prior to his arrest he sat me down and explained that for the past few weekends he and some friends had been going to a shooting range on long island for target practice he told me id be going with him the next morning we arrived at calvert on shooting range which unbeknownst to our group was being watched by the fbi when it was my turn to shoot my father helped me hold the rifle to my shoulder and explained how to aim at the target about 30 yards off that day the last bullet i shot hit the small orange light that sat on top of the target and to everyones surprise especially mine the entire target burst into flames my uncle turned to the other men and in arabic said ibnabuh like father likes on the yall seemed to get a really big laugh out of that comment but it wasnt until a few years later that i fully understood what they thought was so funny they thought they saw in me the same destruction my father was capable of those men would eventually be convicted of placing a van filled with 1 500 pounds of explosives into the sub level parking lot of the world trade centers north tower causing an explosion that killed six people and injured over 1000 others these were the men i looked up to these were the men i called ammu which means uncle by the time i turned 19 i had already moved 20 times in my life and that instability during my childhood didnt really provide an opportunity to make many friends each time i would begin to feel comfortable around someone it was time to pack up and move to the next town being the perpetual new face in class i was frequently the target of bullies i kept my identity a secret from my classmates to avoid being targeted but as it turns out being the quiet chubby new kid in class was more than enough ammunition so for the most part i spent my time at home reading books and watching tv or playing video games for those reasons my social skills were lacking to say the least and growing up in a bigoted household i wasnt prepared for the real world id been raised to judge people based on arbitrary measurements like a persons race or religion so what opened my eyes one of my first experiences that challenged this way of thinking was during the 2000 presidential elections through a college prep program i was able to take part in the national youth convention in philadelphia my particular groups focus was on youth violence and having been the victim of bullying for most of my life this was a subject in which i felt particularly passionate the members of our group came from many different walks of life one day toward the end of the convention i found out that one of the kids i had befriended was jewish now it had taken several days for this detail to come to light and i realized that there was no natural animosity between the two of us i had never had a jewish friend before and frankly i felt a sense of pride in having been able to overcome a barrier that for most of my life i had been led to believe was insurmountable another major turning point came when i found a summer jobatbusch gardens an amusement park there i was exposed to people from all sorts of faiths and cultures and that experience proved to be fundamental to the development of my character most of my life id been taught that homosexuality was a sin and by extension that all gay people were a negative influence as chance would have it i had the opportunity to work with some of the gay performers at a show there and soon found that many were the kind est least judgmental people i had ever met being bullied as a kid created a sense of empathy in me toward the suffering of others and it comes very unnaturally to me to treat people who are kind in any other way than how i would want to be treated because of that feeling i was able to contrast the stereotypes id been taught as a child with real life experience and interaction i dont know what its like to be gay but im well acquainted with being judged for something thats beyond my control then there was the daily show on a nightly basis jon stewart forced me to be intellectually honest with myself about my own bigotry and helped me to realize that a persons race religion or sexual orientation had nothing to do with the quality of ones character he was in many ways a father figure to me when i was in desperate need of one inspiration can often come from an unexpected place and the fact that a jewish comedian had done more to positively influence my worldview than my own extremist father is not lost on me one day i had a conversation with my mother about how my worldview was starting to change and she said something to me that i will hold dear to my heart for as long as i live she looked at me with the weary eyes of someone who had experienced enough dogmatism to last a lifetime and said im tired of hating people in that instant i realized how much negative energy it takes to hold that hatred inside of you zakebrahim is not my real name i changed it when my family decided to end our connection with my father and start a new life so why would i out myself and potentially put myself in danger well thats simple i do it in the hopes that perhaps someone someday who is compelled to use violence may hear my story and realize that there is a better way that although i had been subjected to this violent intolerant ideology that i did not become fanatic ized instead i choose to use my experience to fight back against terrorism against the bigotry i do it for the victims of terrorism and their loved ones for the terrible pain and loss that terrorism has forced upon their lives for the victims of terrorism i will speak out against these senseless acts and condemn my fathers actions and with that simple fact i stand here as proof that violence isnt inherent in ones religion or race and the son does not have to follow the ways of his father i am not my father thank you thank you everybody thank you all thanks a lot'"
            ]
          },
          "execution_count": 32,
          "metadata": {},
          "output_type": "execute_result"
        }
      ],
      "source": [
        "hyp[0]"
      ]
    }
  ],
  "metadata": {
    "colab": {
      "collapsed_sections": [],
      "name": "nb_space_restorer_example.ipynb",
      "provenance": []
    },
    "kernelspec": {
      "display_name": "Python 3.8.0 ('venv': venv)",
      "language": "python",
      "name": "python3"
    },
    "language_info": {
      "name": "python",
      "version": "3.8.0"
    },
    "vscode": {
      "interpreter": {
        "hash": "86fddccf13919337e85c98fd2b97715000222f5f96b2ee3a79e8fffd20b639ac"
      }
    },
    "widgets": {
      "application/vnd.jupyter.widget-state+json": {
        "0288c2f0b195474ba79aa92b95d4bdb7": {
          "model_module": "@jupyter-widgets/base",
          "model_module_version": "1.2.0",
          "model_name": "LayoutModel",
          "state": {
            "_model_module": "@jupyter-widgets/base",
            "_model_module_version": "1.2.0",
            "_model_name": "LayoutModel",
            "_view_count": null,
            "_view_module": "@jupyter-widgets/base",
            "_view_module_version": "1.2.0",
            "_view_name": "LayoutView",
            "align_content": null,
            "align_items": null,
            "align_self": null,
            "border": null,
            "bottom": null,
            "display": null,
            "flex": null,
            "flex_flow": null,
            "grid_area": null,
            "grid_auto_columns": null,
            "grid_auto_flow": null,
            "grid_auto_rows": null,
            "grid_column": null,
            "grid_gap": null,
            "grid_row": null,
            "grid_template_areas": null,
            "grid_template_columns": null,
            "grid_template_rows": null,
            "height": null,
            "justify_content": null,
            "justify_items": null,
            "left": null,
            "margin": null,
            "max_height": null,
            "max_width": null,
            "min_height": null,
            "min_width": null,
            "object_fit": null,
            "object_position": null,
            "order": null,
            "overflow": null,
            "overflow_x": null,
            "overflow_y": null,
            "padding": null,
            "right": null,
            "top": null,
            "visibility": null,
            "width": null
          }
        },
        "4b90b31f8efc409fb663ee10ccdd2ac7": {
          "model_module": "@jupyter-widgets/controls",
          "model_module_version": "1.5.0",
          "model_name": "ProgressStyleModel",
          "state": {
            "_model_module": "@jupyter-widgets/controls",
            "_model_module_version": "1.5.0",
            "_model_name": "ProgressStyleModel",
            "_view_count": null,
            "_view_module": "@jupyter-widgets/base",
            "_view_module_version": "1.2.0",
            "_view_name": "StyleView",
            "bar_color": null,
            "description_width": ""
          }
        },
        "59bc89949b3f4806b0e0f8e8ed20d6e3": {
          "model_module": "@jupyter-widgets/controls",
          "model_module_version": "1.5.0",
          "model_name": "HTMLModel",
          "state": {
            "_dom_classes": [],
            "_model_module": "@jupyter-widgets/controls",
            "_model_module_version": "1.5.0",
            "_model_name": "HTMLModel",
            "_view_count": null,
            "_view_module": "@jupyter-widgets/controls",
            "_view_module_version": "1.5.0",
            "_view_name": "HTMLView",
            "description": "",
            "description_tooltip": null,
            "layout": "IPY_MODEL_9a873edad1da49469997041a56f7e102",
            "placeholder": "​",
            "style": "IPY_MODEL_dceda2ab3234480d93bd4e81d600b58f",
            "value": " 10/10 [02:07&lt;00:00, 10.21s/it, ram_usage=28.1%]"
          }
        },
        "8da89e5418334537bd7a997666168488": {
          "model_module": "@jupyter-widgets/base",
          "model_module_version": "1.2.0",
          "model_name": "LayoutModel",
          "state": {
            "_model_module": "@jupyter-widgets/base",
            "_model_module_version": "1.2.0",
            "_model_name": "LayoutModel",
            "_view_count": null,
            "_view_module": "@jupyter-widgets/base",
            "_view_module_version": "1.2.0",
            "_view_name": "LayoutView",
            "align_content": null,
            "align_items": null,
            "align_self": null,
            "border": null,
            "bottom": null,
            "display": null,
            "flex": null,
            "flex_flow": null,
            "grid_area": null,
            "grid_auto_columns": null,
            "grid_auto_flow": null,
            "grid_auto_rows": null,
            "grid_column": null,
            "grid_gap": null,
            "grid_row": null,
            "grid_template_areas": null,
            "grid_template_columns": null,
            "grid_template_rows": null,
            "height": null,
            "justify_content": null,
            "justify_items": null,
            "left": null,
            "margin": null,
            "max_height": null,
            "max_width": null,
            "min_height": null,
            "min_width": null,
            "object_fit": null,
            "object_position": null,
            "order": null,
            "overflow": null,
            "overflow_x": null,
            "overflow_y": null,
            "padding": null,
            "right": null,
            "top": null,
            "visibility": null,
            "width": null
          }
        },
        "94ba229415914e7aacd05ecdd8541f7b": {
          "model_module": "@jupyter-widgets/controls",
          "model_module_version": "1.5.0",
          "model_name": "HTMLModel",
          "state": {
            "_dom_classes": [],
            "_model_module": "@jupyter-widgets/controls",
            "_model_module_version": "1.5.0",
            "_model_name": "HTMLModel",
            "_view_count": null,
            "_view_module": "@jupyter-widgets/controls",
            "_view_module_version": "1.5.0",
            "_view_name": "HTMLView",
            "description": "",
            "description_tooltip": null,
            "layout": "IPY_MODEL_8da89e5418334537bd7a997666168488",
            "placeholder": "​",
            "style": "IPY_MODEL_cc8c35db06aa48eabcc8bf11fd0985f1",
            "value": "100%"
          }
        },
        "9a873edad1da49469997041a56f7e102": {
          "model_module": "@jupyter-widgets/base",
          "model_module_version": "1.2.0",
          "model_name": "LayoutModel",
          "state": {
            "_model_module": "@jupyter-widgets/base",
            "_model_module_version": "1.2.0",
            "_model_name": "LayoutModel",
            "_view_count": null,
            "_view_module": "@jupyter-widgets/base",
            "_view_module_version": "1.2.0",
            "_view_name": "LayoutView",
            "align_content": null,
            "align_items": null,
            "align_self": null,
            "border": null,
            "bottom": null,
            "display": null,
            "flex": null,
            "flex_flow": null,
            "grid_area": null,
            "grid_auto_columns": null,
            "grid_auto_flow": null,
            "grid_auto_rows": null,
            "grid_column": null,
            "grid_gap": null,
            "grid_row": null,
            "grid_template_areas": null,
            "grid_template_columns": null,
            "grid_template_rows": null,
            "height": null,
            "justify_content": null,
            "justify_items": null,
            "left": null,
            "margin": null,
            "max_height": null,
            "max_width": null,
            "min_height": null,
            "min_width": null,
            "object_fit": null,
            "object_position": null,
            "order": null,
            "overflow": null,
            "overflow_x": null,
            "overflow_y": null,
            "padding": null,
            "right": null,
            "top": null,
            "visibility": null,
            "width": null
          }
        },
        "ba2efd76682744e09508e868923100b5": {
          "model_module": "@jupyter-widgets/base",
          "model_module_version": "1.2.0",
          "model_name": "LayoutModel",
          "state": {
            "_model_module": "@jupyter-widgets/base",
            "_model_module_version": "1.2.0",
            "_model_name": "LayoutModel",
            "_view_count": null,
            "_view_module": "@jupyter-widgets/base",
            "_view_module_version": "1.2.0",
            "_view_name": "LayoutView",
            "align_content": null,
            "align_items": null,
            "align_self": null,
            "border": null,
            "bottom": null,
            "display": null,
            "flex": null,
            "flex_flow": null,
            "grid_area": null,
            "grid_auto_columns": null,
            "grid_auto_flow": null,
            "grid_auto_rows": null,
            "grid_column": null,
            "grid_gap": null,
            "grid_row": null,
            "grid_template_areas": null,
            "grid_template_columns": null,
            "grid_template_rows": null,
            "height": null,
            "justify_content": null,
            "justify_items": null,
            "left": null,
            "margin": null,
            "max_height": null,
            "max_width": null,
            "min_height": null,
            "min_width": null,
            "object_fit": null,
            "object_position": null,
            "order": null,
            "overflow": null,
            "overflow_x": null,
            "overflow_y": null,
            "padding": null,
            "right": null,
            "top": null,
            "visibility": null,
            "width": null
          }
        },
        "cc8c35db06aa48eabcc8bf11fd0985f1": {
          "model_module": "@jupyter-widgets/controls",
          "model_module_version": "1.5.0",
          "model_name": "DescriptionStyleModel",
          "state": {
            "_model_module": "@jupyter-widgets/controls",
            "_model_module_version": "1.5.0",
            "_model_name": "DescriptionStyleModel",
            "_view_count": null,
            "_view_module": "@jupyter-widgets/base",
            "_view_module_version": "1.2.0",
            "_view_name": "StyleView",
            "description_width": ""
          }
        },
        "dceda2ab3234480d93bd4e81d600b58f": {
          "model_module": "@jupyter-widgets/controls",
          "model_module_version": "1.5.0",
          "model_name": "DescriptionStyleModel",
          "state": {
            "_model_module": "@jupyter-widgets/controls",
            "_model_module_version": "1.5.0",
            "_model_name": "DescriptionStyleModel",
            "_view_count": null,
            "_view_module": "@jupyter-widgets/base",
            "_view_module_version": "1.2.0",
            "_view_name": "StyleView",
            "description_width": ""
          }
        },
        "ebeabf73e0204110a236a149b27f1a37": {
          "model_module": "@jupyter-widgets/controls",
          "model_module_version": "1.5.0",
          "model_name": "FloatProgressModel",
          "state": {
            "_dom_classes": [],
            "_model_module": "@jupyter-widgets/controls",
            "_model_module_version": "1.5.0",
            "_model_name": "FloatProgressModel",
            "_view_count": null,
            "_view_module": "@jupyter-widgets/controls",
            "_view_module_version": "1.5.0",
            "_view_name": "ProgressView",
            "bar_style": "success",
            "description": "",
            "description_tooltip": null,
            "layout": "IPY_MODEL_ba2efd76682744e09508e868923100b5",
            "max": 10,
            "min": 0,
            "orientation": "horizontal",
            "style": "IPY_MODEL_4b90b31f8efc409fb663ee10ccdd2ac7",
            "value": 10
          }
        },
        "fa14f37c38d04133abf6f4dc6ea2a3c2": {
          "model_module": "@jupyter-widgets/controls",
          "model_module_version": "1.5.0",
          "model_name": "HBoxModel",
          "state": {
            "_dom_classes": [],
            "_model_module": "@jupyter-widgets/controls",
            "_model_module_version": "1.5.0",
            "_model_name": "HBoxModel",
            "_view_count": null,
            "_view_module": "@jupyter-widgets/controls",
            "_view_module_version": "1.5.0",
            "_view_name": "HBoxView",
            "box_style": "",
            "children": [
              "IPY_MODEL_94ba229415914e7aacd05ecdd8541f7b",
              "IPY_MODEL_ebeabf73e0204110a236a149b27f1a37",
              "IPY_MODEL_59bc89949b3f4806b0e0f8e8ed20d6e3"
            ],
            "layout": "IPY_MODEL_0288c2f0b195474ba79aa92b95d4bdb7"
          }
        }
      }
    }
  },
  "nbformat": 4,
  "nbformat_minor": 0
}
