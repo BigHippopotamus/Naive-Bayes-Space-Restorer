{
  "cells": [
    {
      "cell_type": "code",
      "execution_count": 6,
      "metadata": {
        "id": "1D255YoxV3a4"
      },
      "outputs": [],
      "source": [
        "import sys\n",
        "import pandas as pd"
      ]
    },
    {
      "cell_type": "code",
      "execution_count": 7,
      "metadata": {
        "colab": {
          "base_uri": "https://localhost:8080/"
        },
        "id": "mwvDYmzTL93l",
        "outputId": "61e00fdc-4b1f-4640-c541-8e57a10dea9a"
      },
      "outputs": [
        {
          "name": "stdout",
          "output_type": "stream",
          "text": [
            "Cloning into 'feature-restorer-metric-getter'...\n",
            "remote: Enumerating objects: 38, done.\u001b[K\n",
            "remote: Counting objects:   2% (1/38)\u001b[K\rremote: Counting objects:   5% (2/38)\u001b[K\rremote: Counting objects:   7% (3/38)\u001b[K\rremote: Counting objects:  10% (4/38)\u001b[K\rremote: Counting objects:  13% (5/38)\u001b[K\rremote: Counting objects:  15% (6/38)\u001b[K\rremote: Counting objects:  18% (7/38)\u001b[K\rremote: Counting objects:  21% (8/38)\u001b[K\rremote: Counting objects:  23% (9/38)\u001b[K\rremote: Counting objects:  26% (10/38)\u001b[K\rremote: Counting objects:  28% (11/38)\u001b[K\rremote: Counting objects:  31% (12/38)\u001b[K\rremote: Counting objects:  34% (13/38)\u001b[K\rremote: Counting objects:  36% (14/38)\u001b[K\rremote: Counting objects:  39% (15/38)\u001b[K\rremote: Counting objects:  42% (16/38)\u001b[K\rremote: Counting objects:  44% (17/38)\u001b[K\rremote: Counting objects:  47% (18/38)\u001b[K\rremote: Counting objects:  50% (19/38)\u001b[K\rremote: Counting objects:  52% (20/38)\u001b[K\rremote: Counting objects:  55% (21/38)\u001b[K\rremote: Counting objects:  57% (22/38)\u001b[K\rremote: Counting objects:  60% (23/38)\u001b[K\rremote: Counting objects:  63% (24/38)\u001b[K\rremote: Counting objects:  65% (25/38)\u001b[K\rremote: Counting objects:  68% (26/38)\u001b[K\rremote: Counting objects:  71% (27/38)\u001b[K\rremote: Counting objects:  73% (28/38)\u001b[K\rremote: Counting objects:  76% (29/38)\u001b[K\rremote: Counting objects:  78% (30/38)\u001b[K\rremote: Counting objects:  81% (31/38)\u001b[K\rremote: Counting objects:  84% (32/38)\u001b[K\rremote: Counting objects:  86% (33/38)\u001b[K\rremote: Counting objects:  89% (34/38)\u001b[K\rremote: Counting objects:  92% (35/38)\u001b[K\rremote: Counting objects:  94% (36/38)\u001b[K\rremote: Counting objects:  97% (37/38)\u001b[K\rremote: Counting objects: 100% (38/38)\u001b[K\rremote: Counting objects: 100% (38/38), done.\u001b[K\n",
            "remote: Compressing objects:   3% (1/30)\u001b[K\rremote: Compressing objects:   6% (2/30)\u001b[K\rremote: Compressing objects:  10% (3/30)\u001b[K\rremote: Compressing objects:  13% (4/30)\u001b[K\rremote: Compressing objects:  16% (5/30)\u001b[K\rremote: Compressing objects:  20% (6/30)\u001b[K\rremote: Compressing objects:  23% (7/30)\u001b[K\rremote: Compressing objects:  26% (8/30)\u001b[K\rremote: Compressing objects:  30% (9/30)\u001b[K\rremote: Compressing objects:  33% (10/30)\u001b[K\rremote: Compressing objects:  36% (11/30)\u001b[K\rremote: Compressing objects:  40% (12/30)\u001b[K\rremote: Compressing objects:  43% (13/30)\u001b[K\rremote: Compressing objects:  46% (14/30)\u001b[K\rremote: Compressing objects:  50% (15/30)\u001b[K\rremote: Compressing objects:  53% (16/30)\u001b[K\rremote: Compressing objects:  56% (17/30)\u001b[K\rremote: Compressing objects:  60% (18/30)\u001b[K\rremote: Compressing objects:  63% (19/30)\u001b[K\rremote: Compressing objects:  66% (20/30)\u001b[K\rremote: Compressing objects:  70% (21/30)\u001b[K\rremote: Compressing objects:  73% (22/30)\u001b[K\rremote: Compressing objects:  76% (23/30)\u001b[K\rremote: Compressing objects:  80% (24/30)\u001b[K\rremote: Compressing objects:  83% (25/30)\u001b[K\rremote: Compressing objects:  86% (26/30)\u001b[K\rremote: Compressing objects:  90% (27/30)\u001b[K\rremote: Compressing objects:  93% (28/30)\u001b[K\rremote: Compressing objects:  96% (29/30)\u001b[K\rremote: Compressing objects: 100% (30/30)\u001b[K\rremote: Compressing objects: 100% (30/30), done.\u001b[K\n",
            "Unpacking objects:   2% (1/38)   \rUnpacking objects:   5% (2/38)   \rUnpacking objects:   7% (3/38)   \rUnpacking objects:  10% (4/38)   \rUnpacking objects:  13% (5/38)   \rUnpacking objects:  15% (6/38)   \rUnpacking objects:  18% (7/38)   \rremote: Total 38 (delta 8), reused 36 (delta 6), pack-reused 0\u001b[K\n",
            "Unpacking objects:  21% (8/38)   \rUnpacking objects:  23% (9/38)   \rUnpacking objects:  26% (10/38)   \rUnpacking objects:  28% (11/38)   \rUnpacking objects:  31% (12/38)   \rUnpacking objects:  34% (13/38)   \rUnpacking objects:  36% (14/38)   \rUnpacking objects:  39% (15/38)   \rUnpacking objects:  42% (16/38)   \rUnpacking objects:  44% (17/38)   \rUnpacking objects:  47% (18/38)   \rUnpacking objects:  50% (19/38)   \rUnpacking objects:  52% (20/38)   \rUnpacking objects:  55% (21/38)   \rUnpacking objects:  57% (22/38)   \rUnpacking objects:  60% (23/38)   \rUnpacking objects:  63% (24/38)   \rUnpacking objects:  65% (25/38)   \rUnpacking objects:  68% (26/38)   \rUnpacking objects:  71% (27/38)   \rUnpacking objects:  73% (28/38)   \rUnpacking objects:  76% (29/38)   \rUnpacking objects:  78% (30/38)   \rUnpacking objects:  81% (31/38)   \rUnpacking objects:  84% (32/38)   \rUnpacking objects:  86% (33/38)   \rUnpacking objects:  89% (34/38)   \rUnpacking objects:  92% (35/38)   \rUnpacking objects:  94% (36/38)   \rUnpacking objects:  97% (37/38)   \rUnpacking objects: 100% (38/38)   \rUnpacking objects: 100% (38/38), done.\n"
          ]
        }
      ],
      "source": [
        "# Get FeatureRestorerMetricGetter\n",
        "!rm -rf 'feature-restorer-metric-getter'\n",
        "!git clone https://github.com/ljdyer/feature-restorer-metric-getter.git\n",
        "sys.path.append('feature-restorer-metric-getter/src')\n",
        "from feature_restorer_metric_getter import FeatureRestorerMetricGetter"
      ]
    },
    {
      "cell_type": "code",
      "execution_count": 8,
      "metadata": {
        "colab": {
          "base_uri": "https://localhost:8080/"
        },
        "id": "U1VFPQjFWItW",
        "outputId": "953a0aa5-b848-47f2-c0ec-8f4a0fceb0c7"
      },
      "outputs": [
        {
          "name": "stdout",
          "output_type": "stream",
          "text": [
            "Cloning into 'naive-bayes-space-restorer'...\n",
            "remote: Enumerating objects: 166, done.\u001b[K\n",
            "remote: Counting objects:   0% (1/166)\u001b[K\rremote: Counting objects:   1% (2/166)\u001b[K\rremote: Counting objects:   2% (4/166)\u001b[K\rremote: Counting objects:   3% (5/166)\u001b[K\rremote: Counting objects:   4% (7/166)\u001b[K\rremote: Counting objects:   5% (9/166)\u001b[K\rremote: Counting objects:   6% (10/166)\u001b[K\rremote: Counting objects:   7% (12/166)\u001b[K\rremote: Counting objects:   8% (14/166)\u001b[K\rremote: Counting objects:   9% (15/166)\u001b[K\rremote: Counting objects:  10% (17/166)\u001b[K\rremote: Counting objects:  11% (19/166)\u001b[K\rremote: Counting objects:  12% (20/166)\u001b[K\rremote: Counting objects:  13% (22/166)\u001b[K\rremote: Counting objects:  14% (24/166)\u001b[K\rremote: Counting objects:  15% (25/166)\u001b[K\rremote: Counting objects:  16% (27/166)\u001b[K\rremote: Counting objects:  17% (29/166)\u001b[K\rremote: Counting objects:  18% (30/166)\u001b[K\rremote: Counting objects:  19% (32/166)\u001b[K\rremote: Counting objects:  20% (34/166)\u001b[K\rremote: Counting objects:  21% (35/166)\u001b[K\rremote: Counting objects:  22% (37/166)\u001b[K\rremote: Counting objects:  23% (39/166)\u001b[K\rremote: Counting objects:  24% (40/166)\u001b[K\rremote: Counting objects:  25% (42/166)\u001b[K\rremote: Counting objects:  26% (44/166)\u001b[K\rremote: Counting objects:  27% (45/166)\u001b[K\rremote: Counting objects:  28% (47/166)\u001b[K\rremote: Counting objects:  29% (49/166)\u001b[K\rremote: Counting objects:  30% (50/166)\u001b[K\rremote: Counting objects:  31% (52/166)\u001b[K\rremote: Counting objects:  32% (54/166)\u001b[K\rremote: Counting objects:  33% (55/166)\u001b[K\rremote: Counting objects:  34% (57/166)\u001b[K\rremote: Counting objects:  35% (59/166)\u001b[K\rremote: Counting objects:  36% (60/166)\u001b[K\rremote: Counting objects:  37% (62/166)\u001b[K\rremote: Counting objects:  38% (64/166)\u001b[K\rremote: Counting objects:  39% (65/166)\u001b[K\rremote: Counting objects:  40% (67/166)\u001b[K\rremote: Counting objects:  41% (69/166)\u001b[K\rremote: Counting objects:  42% (70/166)\u001b[K\rremote: Counting objects:  43% (72/166)\u001b[K\rremote: Counting objects:  44% (74/166)\u001b[K\rremote: Counting objects:  45% (75/166)\u001b[K\rremote: Counting objects:  46% (77/166)\u001b[K\rremote: Counting objects:  47% (79/166)\u001b[K\rremote: Counting objects:  48% (80/166)\u001b[K\rremote: Counting objects:  49% (82/166)\u001b[K\rremote: Counting objects:  50% (83/166)\u001b[K\rremote: Counting objects:  51% (85/166)\u001b[K\rremote: Counting objects:  52% (87/166)\u001b[K\rremote: Counting objects:  53% (88/166)\u001b[K\rremote: Counting objects:  54% (90/166)\u001b[K\rremote: Counting objects:  55% (92/166)\u001b[K\rremote: Counting objects:  56% (93/166)\u001b[K\rremote: Counting objects:  57% (95/166)\u001b[K\rremote: Counting objects:  58% (97/166)\u001b[K\rremote: Counting objects:  59% (98/166)\u001b[K\rremote: Counting objects:  60% (100/166)\u001b[K\rremote: Counting objects:  61% (102/166)\u001b[K\rremote: Counting objects:  62% (103/166)\u001b[K\rremote: Counting objects:  63% (105/166)\u001b[K\rremote: Counting objects:  64% (107/166)\u001b[K\rremote: Counting objects:  65% (108/166)\u001b[K\rremote: Counting objects:  66% (110/166)\u001b[K\rremote: Counting objects:  67% (112/166)\u001b[K\rremote: Counting objects:  68% (113/166)\u001b[K\rremote: Counting objects:  69% (115/166)\u001b[K\rremote: Counting objects:  70% (117/166)\u001b[K\rremote: Counting objects:  71% (118/166)\u001b[K\rremote: Counting objects:  72% (120/166)\u001b[K\rremote: Counting objects:  73% (122/166)\u001b[K\rremote: Counting objects:  74% (123/166)\u001b[K\rremote: Counting objects:  75% (125/166)\u001b[K\rremote: Counting objects:  76% (127/166)\u001b[K\rremote: Counting objects:  77% (128/166)\u001b[K\rremote: Counting objects:  78% (130/166)\u001b[K\rremote: Counting objects:  79% (132/166)\u001b[K\rremote: Counting objects:  80% (133/166)\u001b[K\rremote: Counting objects:  81% (135/166)\u001b[K\rremote: Counting objects:  82% (137/166)\u001b[K\rremote: Counting objects:  83% (138/166)\u001b[K\rremote: Counting objects:  84% (140/166)\u001b[K\rremote: Counting objects:  85% (142/166)\u001b[K\rremote: Counting objects:  86% (143/166)\u001b[K\rremote: Counting objects:  87% (145/166)\u001b[K\rremote: Counting objects:  88% (147/166)\u001b[K\rremote: Counting objects:  89% (148/166)\u001b[K\rremote: Counting objects:  90% (150/166)\u001b[K\rremote: Counting objects:  91% (152/166)\u001b[K\rremote: Counting objects:  92% (153/166)\u001b[K\rremote: Counting objects:  93% (155/166)\u001b[K\rremote: Counting objects:  94% (157/166)\u001b[K\rremote: Counting objects:  95% (158/166)\u001b[K\rremote: Counting objects:  96% (160/166)\u001b[K\rremote: Counting objects:  97% (162/166)\u001b[K\rremote: Counting objects:  98% (163/166)\u001b[K\rremote: Counting objects:  99% (165/166)\u001b[K\rremote: Counting objects: 100% (166/166)\u001b[K\rremote: Counting objects: 100% (166/166), done.\u001b[K\n",
            "remote: Compressing objects:   0% (1/107)\u001b[K\rremote: Compressing objects:   1% (2/107)\u001b[K\rremote: Compressing objects:   2% (3/107)\u001b[K\rremote: Compressing objects:   3% (4/107)\u001b[K\rremote: Compressing objects:   4% (5/107)\u001b[K\rremote: Compressing objects:   5% (6/107)\u001b[K\rremote: Compressing objects:   6% (7/107)\u001b[K\rremote: Compressing objects:   7% (8/107)\u001b[K\rremote: Compressing objects:   8% (9/107)\u001b[K\rremote: Compressing objects:   9% (10/107)\u001b[K\rremote: Compressing objects:  10% (11/107)\u001b[K\rremote: Compressing objects:  11% (12/107)\u001b[K\rremote: Compressing objects:  12% (13/107)\u001b[K\rremote: Compressing objects:  13% (14/107)\u001b[K\rremote: Compressing objects:  14% (15/107)\u001b[K\rremote: Compressing objects:  15% (17/107)\u001b[K\rremote: Compressing objects:  16% (18/107)\u001b[K\rremote: Compressing objects:  17% (19/107)\u001b[K\rremote: Compressing objects:  18% (20/107)\u001b[K\rremote: Compressing objects:  19% (21/107)\u001b[K\rremote: Compressing objects:  20% (22/107)\u001b[K\rremote: Compressing objects:  21% (23/107)\u001b[K\rremote: Compressing objects:  22% (24/107)\u001b[K\rremote: Compressing objects:  23% (25/107)\u001b[K\rremote: Compressing objects:  24% (26/107)\u001b[K\rremote: Compressing objects:  25% (27/107)\u001b[K\rremote: Compressing objects:  26% (28/107)\u001b[K\rremote: Compressing objects:  27% (29/107)\u001b[K\rremote: Compressing objects:  28% (30/107)\u001b[K\rremote: Compressing objects:  29% (32/107)\u001b[K\rremote: Compressing objects:  30% (33/107)\u001b[K\rremote: Compressing objects:  31% (34/107)\u001b[K\rremote: Compressing objects:  32% (35/107)\u001b[K\rremote: Compressing objects:  33% (36/107)\u001b[K\rremote: Compressing objects:  34% (37/107)\u001b[K\rremote: Compressing objects:  35% (38/107)\u001b[K\rremote: Compressing objects:  36% (39/107)\u001b[K\rremote: Compressing objects:  37% (40/107)\u001b[K\rremote: Compressing objects:  38% (41/107)\u001b[K\rremote: Compressing objects:  39% (42/107)\u001b[K\rremote: Compressing objects:  40% (43/107)\u001b[K\rremote: Compressing objects:  41% (44/107)\u001b[K\rremote: Compressing objects:  42% (45/107)\u001b[K\rremote: Compressing objects:  43% (47/107)\u001b[K\rremote: Compressing objects:  44% (48/107)\u001b[K\rremote: Compressing objects:  45% (49/107)\u001b[K\rremote: Compressing objects:  46% (50/107)\u001b[K\rremote: Compressing objects:  47% (51/107)\u001b[K\rremote: Compressing objects:  48% (52/107)\u001b[K\rremote: Compressing objects:  49% (53/107)\u001b[K\rremote: Compressing objects:  50% (54/107)\u001b[K\rremote: Compressing objects:  51% (55/107)\u001b[K\rremote: Compressing objects:  52% (56/107)\u001b[K\rremote: Compressing objects:  53% (57/107)\u001b[K\rremote: Compressing objects:  54% (58/107)\u001b[K\rremote: Compressing objects:  55% (59/107)\u001b[K\rremote: Compressing objects:  56% (60/107)\u001b[K\rremote: Compressing objects:  57% (61/107)\u001b[K\rremote: Compressing objects:  58% (63/107)\u001b[K\rremote: Compressing objects:  59% (64/107)\u001b[K\rremote: Compressing objects:  60% (65/107)\u001b[K\rremote: Compressing objects:  61% (66/107)\u001b[K\rremote: Compressing objects:  62% (67/107)\u001b[K\rremote: Compressing objects:  63% (68/107)\u001b[K\rremote: Compressing objects:  64% (69/107)\u001b[K\rremote: Compressing objects:  65% (70/107)\u001b[K\rremote: Compressing objects:  66% (71/107)\u001b[K\rremote: Compressing objects:  67% (72/107)\u001b[K\rremote: Compressing objects:  68% (73/107)\u001b[K\rremote: Compressing objects:  69% (74/107)\u001b[K\rremote: Compressing objects:  70% (75/107)\u001b[K\rremote: Compressing objects:  71% (76/107)\u001b[K\rremote: Compressing objects:  72% (78/107)\u001b[K\rremote: Compressing objects:  73% (79/107)\u001b[K\rremote: Compressing objects:  74% (80/107)\u001b[K\rremote: Compressing objects:  75% (81/107)\u001b[K\rremote: Compressing objects:  76% (82/107)\u001b[K\rremote: Compressing objects:  77% (83/107)\u001b[K\rremote: Compressing objects:  78% (84/107)\u001b[K\rremote: Compressing objects:  79% (85/107)\u001b[K\rremote: Compressing objects:  80% (86/107)\u001b[K\rremote: Compressing objects:  81% (87/107)\u001b[K\rremote: Compressing objects:  82% (88/107)\u001b[K\rremote: Compressing objects:  83% (89/107)\u001b[K\rremote: Compressing objects:  84% (90/107)\u001b[K\rremote: Compressing objects:  85% (91/107)\u001b[K\rremote: Compressing objects:  86% (93/107)\u001b[K\rremote: Compressing objects:  87% (94/107)\u001b[K\rremote: Compressing objects:  88% (95/107)\u001b[K\rremote: Compressing objects:  89% (96/107)\u001b[K\rremote: Compressing objects:  90% (97/107)\u001b[K\rremote: Compressing objects:  91% (98/107)\u001b[K\rremote: Compressing objects:  92% (99/107)\u001b[K\rremote: Compressing objects:  93% (100/107)\u001b[K\rremote: Compressing objects:  94% (101/107)\u001b[K\rremote: Compressing objects:  95% (102/107)\u001b[K\rremote: Compressing objects:  96% (103/107)\u001b[K\rremote: Compressing objects:  97% (104/107)\u001b[K\rremote: Compressing objects:  98% (105/107)\u001b[K\rremote: Compressing objects:  99% (106/107)\u001b[K\rremote: Compressing objects: 100% (107/107)\u001b[K\rremote: Compressing objects: 100% (107/107), done.\u001b[K\n",
            "Receiving objects:   0% (1/166)   \rReceiving objects:   1% (2/166)   \rReceiving objects:   2% (4/166)   \rReceiving objects:   3% (5/166)   \rReceiving objects:   4% (7/166)   \rReceiving objects:   5% (9/166)   \rReceiving objects:   6% (10/166)   \rReceiving objects:   7% (12/166)   \rReceiving objects:   8% (14/166)   \rReceiving objects:   9% (15/166)   \rReceiving objects:  10% (17/166)   \rReceiving objects:  11% (19/166)   \rReceiving objects:  12% (20/166)   \rReceiving objects:  13% (22/166)   \rReceiving objects:  14% (24/166)   \rReceiving objects:  15% (25/166)   \rReceiving objects:  16% (27/166)   \rReceiving objects:  17% (29/166)   \rReceiving objects:  18% (30/166)   \rReceiving objects:  19% (32/166)   \rReceiving objects:  20% (34/166)   \rReceiving objects:  21% (35/166)   \rReceiving objects:  22% (37/166)   \rReceiving objects:  23% (39/166)   \rReceiving objects:  24% (40/166)   \rReceiving objects:  25% (42/166)   \rReceiving objects:  26% (44/166)   \rReceiving objects:  27% (45/166)   \rReceiving objects:  28% (47/166)   \rReceiving objects:  29% (49/166)   \rReceiving objects:  30% (50/166)   \rReceiving objects:  31% (52/166)   \rReceiving objects:  32% (54/166)   \rReceiving objects:  33% (55/166)   \rReceiving objects:  34% (57/166)   \rReceiving objects:  35% (59/166)   \rReceiving objects:  36% (60/166)   \rReceiving objects:  37% (62/166)   \rReceiving objects:  38% (64/166)   \rReceiving objects:  39% (65/166)   \rremote: Total 166 (delta 88), reused 126 (delta 51), pack-reused 0\u001b[K\n",
            "Receiving objects:  40% (67/166)   \rReceiving objects:  41% (69/166)   \rReceiving objects:  42% (70/166)   \rReceiving objects:  43% (72/166)   \rReceiving objects:  44% (74/166)   \rReceiving objects:  45% (75/166)   \rReceiving objects:  46% (77/166)   \rReceiving objects:  47% (79/166)   \rReceiving objects:  48% (80/166)   \rReceiving objects:  49% (82/166)   \rReceiving objects:  50% (83/166)   \rReceiving objects:  51% (85/166)   \rReceiving objects:  52% (87/166)   \rReceiving objects:  53% (88/166)   \rReceiving objects:  54% (90/166)   \rReceiving objects:  55% (92/166)   \rReceiving objects:  56% (93/166)   \rReceiving objects:  57% (95/166)   \rReceiving objects:  58% (97/166)   \rReceiving objects:  59% (98/166)   \rReceiving objects:  60% (100/166)   \rReceiving objects:  61% (102/166)   \rReceiving objects:  62% (103/166)   \rReceiving objects:  63% (105/166)   \rReceiving objects:  64% (107/166)   \rReceiving objects:  65% (108/166)   \rReceiving objects:  66% (110/166)   \rReceiving objects:  67% (112/166)   \rReceiving objects:  68% (113/166)   \rReceiving objects:  69% (115/166)   \rReceiving objects:  70% (117/166)   \rReceiving objects:  71% (118/166)   \rReceiving objects:  72% (120/166)   \rReceiving objects:  73% (122/166)   \rReceiving objects:  74% (123/166)   \rReceiving objects:  75% (125/166)   \rReceiving objects:  76% (127/166)   \rReceiving objects:  77% (128/166)   \rReceiving objects:  78% (130/166)   \rReceiving objects:  79% (132/166)   \rReceiving objects:  80% (133/166)   \rReceiving objects:  81% (135/166)   \rReceiving objects:  82% (137/166)   \rReceiving objects:  83% (138/166)   \rReceiving objects:  84% (140/166)   \rReceiving objects:  85% (142/166)   \rReceiving objects:  86% (143/166)   \rReceiving objects:  87% (145/166)   \rReceiving objects:  88% (147/166)   \rReceiving objects:  89% (148/166)   \rReceiving objects:  90% (150/166)   \rReceiving objects:  91% (152/166)   \rReceiving objects:  92% (153/166)   \rReceiving objects:  93% (155/166)   \rReceiving objects:  94% (157/166)   \rReceiving objects:  95% (158/166)   \rReceiving objects:  96% (160/166)   \rReceiving objects:  97% (162/166)   \rReceiving objects:  98% (163/166)   \rReceiving objects:  99% (165/166)   \rReceiving objects: 100% (166/166)   \rReceiving objects: 100% (166/166), 101.06 KiB | 20.21 MiB/s, done.\n",
            "Resolving deltas:   0% (0/88)   \rResolving deltas:   1% (1/88)   \rResolving deltas:   5% (5/88)   \rResolving deltas:   9% (8/88)   \rResolving deltas:  23% (21/88)   \rResolving deltas:  53% (47/88)   \rResolving deltas:  55% (49/88)   \rResolving deltas:  72% (64/88)   \rResolving deltas:  79% (70/88)   \rResolving deltas:  80% (71/88)   \rResolving deltas:  84% (74/88)   \rResolving deltas:  89% (79/88)   \rResolving deltas: 100% (88/88)   \rResolving deltas: 100% (88/88), done.\n"
          ]
        }
      ],
      "source": [
        "# Get NBSpaceRestorer\n",
        "!rm -rf 'naive-bayes-space-restorer'\n",
        "!git clone https://github.com/ljdyer/naive-bayes-space-restorer.git\n",
        "sys.path.append('naive-bayes-space-restorer/src')\n",
        "from nb_space_restorer import NBSpaceRestorer"
      ]
    },
    {
      "cell_type": "code",
      "execution_count": 9,
      "metadata": {
        "colab": {
          "base_uri": "https://localhost:8080/"
        },
        "id": "chIaE1nJWYcK",
        "outputId": "6546432a-c55e-486e-ecf9-08c594cd058e"
      },
      "outputs": [
        {
          "name": "stdout",
          "output_type": "stream",
          "text": [
            "Drive already mounted at /content/drive; to attempt to forcibly remount, call drive.mount(\"/content/drive\", force_remount=True).\n"
          ]
        }
      ],
      "source": [
        "from google.colab import drive\n",
        "drive.mount('/content/drive')"
      ]
    },
    {
      "cell_type": "code",
      "execution_count": 11,
      "metadata": {
        "id": "BhuxgahmWY-m"
      },
      "outputs": [],
      "source": [
        "TRAIN_PATH = 'drive/MyDrive/PAPER/data/ted_talks/ted_train.csv'\n",
        "TEST_PATH = 'drive/MyDrive/PAPER/data/ted_talks/ted_test.csv'\n",
        "MODEL_FOLDER = 'drive/MyDrive/PAPER/models/01_nb/Example/EXAMPLE_TED'"
      ]
    },
    {
      "cell_type": "code",
      "execution_count": 12,
      "metadata": {
        "id": "tZpOSpCBWcb1"
      },
      "outputs": [],
      "source": [
        "train_df = pd.read_csv(TRAIN_PATH)\n",
        "test_df = pd.read_csv(TEST_PATH)"
      ]
    },
    {
      "cell_type": "code",
      "execution_count": 13,
      "metadata": {
        "id": "HgSyz1gJWfrt"
      },
      "outputs": [],
      "source": [
        "train_texts = train_df['all_cleaned'].to_list()"
      ]
    },
    {
      "cell_type": "code",
      "execution_count": 14,
      "metadata": {
        "colab": {
          "base_uri": "https://localhost:8080/"
        },
        "id": "M3qIBWXWWkwc",
        "outputId": "30638121-6e21-4993-dd51-be6df743d6eb"
      },
      "outputs": [
        {
          "name": "stdout",
          "output_type": "stream",
          "text": [
            "Training complete.\n"
          ]
        }
      ],
      "source": [
        "\"\"\"Initialize an instance of NBSpaceRestorer\"\"\"\n",
        "# NB_Ted = NBSpaceRestorer(\n",
        "#     root_folder=MODEL_FOLDER,\n",
        "#     train_texts=train_texts,\n",
        "# )"
      ]
    },
    {
      "cell_type": "code",
      "execution_count": 15,
      "metadata": {
        "colab": {
          "base_uri": "https://localhost:8080/"
        },
        "id": "CHMjNBZsM_hD",
        "outputId": "ee0188ba-1328-4d35-c85e-16a0910cc15c"
      },
      "outputs": [
        {
          "name": "stdout",
          "output_type": "stream",
          "text": [
            "Finished loading model.\n"
          ]
        }
      ],
      "source": [
        "\"\"\"Load a previously saved instance\"\"\"\n",
        "NB_Ted = NBSpaceRestorer.load(MODEL_FOLDER)"
      ]
    },
    {
      "cell_type": "code",
      "execution_count": 17,
      "metadata": {
        "colab": {
          "base_uri": "https://localhost:8080/",
          "height": 49,
          "referenced_widgets": [
            "e8e6294726de4f0a88cc4c5cbb6a78b0",
            "6876ee7581734682b077c68bde26d06c",
            "300d426573724b21939e32f574e00ae4",
            "e40ac959570349f1a7f6a9159d9d4599",
            "81b322118f8f419da44ef6f33939324e",
            "71e627cc1d6040a4a618c98cb1407f59",
            "81f1f67494b541b6b0d9c8fcd3d6d868",
            "cb7da1bc9ff14a28b7fcf3745cf7bb0d",
            "32e5505fcfa847b3a24aa0edea4fc1ea",
            "43204e46b8bc4af6bfb4ae96fc53c76a",
            "049724aa50c549c0a034f324df6154ce"
          ]
        },
        "id": "tOTOU8V7cH4T",
        "outputId": "ab59fd8d-9907-475b-d15d-e8944cdcce85"
      },
      "outputs": [
        {
          "data": {
            "application/vnd.jupyter.widget-view+json": {
              "model_id": "e8e6294726de4f0a88cc4c5cbb6a78b0",
              "version_major": 2,
              "version_minor": 0
            },
            "text/plain": [
              "  0%|          | 0/10 [00:00<?, ?it/s]"
            ]
          },
          "metadata": {},
          "output_type": "display_data"
        }
      ],
      "source": [
        "\"\"\"Run inference on new texts\"\"\"\n",
        "test_texts = test_df['no_spaces'].to_list()[:10]\n",
        "hyp = NB_Ted.restore(test_texts)"
      ]
    },
    {
      "cell_type": "code",
      "execution_count": null,
      "metadata": {
        "colab": {
          "base_uri": "https://localhost:8080/",
          "height": 105
        },
        "id": "bCYCusorcf97",
        "outputId": "c1bcf683-377c-4da8-8d2d-8eca73dd264f"
      },
      "outputs": [
        {
          "data": {
            "application/vnd.google.colaboratory.intrinsic+json": {
              "type": "string"
            },
            "text/plain": [
              "'on november 5th 1990 a man named elsayyidnosair walked into a hotel in manhattan and assassinated rabbi meir kahane the leader of the jewish defense league nos air was initially found notguilty of the murder but while serving time on lesser charge she and other men began planning attacks on a dozen new york city landmarks including tunnels synagogues and the united nations headquarters thankfully those plans were foiled by an fbi informant sadly the 1993 bombing of the world trade center was not nos air would eventually be convicted for his involvement in the plot elsayyidnosair is my father i was born in pittsburgh pennsylvania in 1983 to him an egyptian engineer and a loving american mother and grade school teacher who together tried their best to create a happy childhood for me it wasnt until i was seven years old that our family dynamic started to change my father exposed me to a side of islam that few people including the majority of muslims get to see its been my experience that when people take the time to interact with one another it doesnt take long to realize that for the most part we all want the same things out of life however in every religion in every population youll find a small percentage of people who hold so fervently to their beliefs that they feel they must use any means necessary to make others live as they do a few months prior to his arrest he sat me down and explained that for the past few weekends he and some friends had been going to a shooting range on long island for target practice he told me id be going with him the next morning we arrived at calvert on shooting range which unbeknownst to our group was being watched by the fbi when it was my turn to shoot my father helped me hold the rifle to my shoulder and explained how to aim at the target about 30 yards off that day the last bullet i shot hit the small orange light that sat on top of the target and to everyones surprise especially mine the entire target burst into flames my uncle turned to the other men and in arabic said ibnabuh like father likes on the yall seemed to get a really big laugh out of that comment but it wasnt until a few years later that i fully understood what they thought was so funny they thought they saw in me the same destruction my father was capable of those men would eventually be convicted of placing a van filled with 1 500 pounds of explosives into the sub level parking lot of the world trade centers north tower causing an explosion that killed six people and injured over 1000 others these were the men i looked up to these were the men i called ammu which means uncle by the time i turned 19 i had already moved 20 times in my life and that instability during my childhood didnt really provide an opportunity to make many friends each time i would begin to feel comfortable around someone it was time to pack up and move to the next town being the perpetual new face in class i was frequently the target of bullies i kept my identity a secret from my classmates to avoid being targeted but as it turns out being the quiet chubby new kid in class was more than enough ammunition so for the most part i spent my time at home reading books and watching tv or playing video games for those reasons my social skills were lacking to say the least and growing up in a bigoted household i wasnt prepared for the real world id been raised to judge people based on arbitrary measurements like a persons race or religion so what opened my eyes one of my first experiences that challenged this way of thinking was during the 2000 presidential elections through a college prep program i was able to take part in the national youth convention in philadelphia my particular groups focus was on youth violence and having been the victim of bullying for most of my life this was a subject in which i felt particularly passionate the members of our group came from many different walks of life one day toward the end of the convention i found out that one of the kids i had befriended was jewish now it had taken several days for this detail to come to light and i realized that there was no natural animosity between the two of us i had never had a jewish friend before and frankly i felt a sense of pride in having been able to overcome a barrier that for most of my life i had been led to believe was insurmountable another major turning point came when i found a summer jobatbusch gardens an amusement park there i was exposed to people from all sorts of faiths and cultures and that experience proved to be fundamental to the development of my character most of my life id been taught that homosexuality was a sin and by extension that all gay people were a negative influence as chance would have it i had the opportunity to work with some of the gay performers at a show there and soon found that many were the kind est least judgmental people i had ever met being bullied as a kid created a sense of empathy in me toward the suffering of others and it comes very unnaturally to me to treat people who are kind in any other way than how i would want to be treated because of that feeling i was able to contrast the stereotypes id been taught as a child with real life experience and interaction i dont know what its like to be gay but im well acquainted with being judged for something thats beyond my control then there was the daily show on a nightly basis jon stewart forced me to be intellectually honest with myself about my own bigotry and helped me to realize that a persons race religion or sexual orientation had nothing to do with the quality of ones character he was in many ways a father figure to me when i was in desperate need of one inspiration can often come from an unexpected place and the fact that a jewish comedian had done more to positively influence my worldview than my own extremist father is not lost on me one day i had a conversation with my mother about how my worldview was starting to change and she said something to me that i will hold dear to my heart for as long as i live she looked at me with the weary eyes of someone who had experienced enough dogmatism to last a lifetime and said im tired of hating people in that instant i realized how much negative energy it takes to hold that hatred inside of you zakebrahim is not my real name i changed it when my family decided to end our connection with my father and start a new life so why would i out myself and potentially put myself in danger well thats simple i do it in the hopes that perhaps someone someday who is compelled to use violence may hear my story and realize that there is a better way that although i had been subjected to this violent intolerant ideology that i did not become fanatic ized instead i choose to use my experience to fight back against terrorism against the bigotry i do it for the victims of terrorism and their loved ones for the terrible pain and loss that terrorism has forced upon their lives for the victims of terrorism i will speak out against these senseless acts and condemn my fathers actions and with that simple fact i stand here as proof that violence isnt inherent in ones religion or race and the son does not have to follow the ways of his father i am not my father thank you thank you everybody thank you all thanks a lot'"
            ]
          },
          "execution_count": 32,
          "metadata": {},
          "output_type": "execute_result"
        }
      ],
      "source": [
        "hyp[0]"
      ]
    }
  ],
  "metadata": {
    "colab": {
      "collapsed_sections": [],
      "name": "nb_space_restorer_example.ipynb",
      "provenance": []
    },
    "kernelspec": {
      "display_name": "Python 3.8.0 ('venv': venv)",
      "language": "python",
      "name": "python3"
    },
    "language_info": {
      "name": "python",
      "version": "3.8.0"
    },
    "vscode": {
      "interpreter": {
        "hash": "86fddccf13919337e85c98fd2b97715000222f5f96b2ee3a79e8fffd20b639ac"
      }
    },
    "widgets": {
      "application/vnd.jupyter.widget-state+json": {
        "049724aa50c549c0a034f324df6154ce": {
          "model_module": "@jupyter-widgets/controls",
          "model_module_version": "1.5.0",
          "model_name": "DescriptionStyleModel",
          "state": {
            "_model_module": "@jupyter-widgets/controls",
            "_model_module_version": "1.5.0",
            "_model_name": "DescriptionStyleModel",
            "_view_count": null,
            "_view_module": "@jupyter-widgets/base",
            "_view_module_version": "1.2.0",
            "_view_name": "StyleView",
            "description_width": ""
          }
        },
        "300d426573724b21939e32f574e00ae4": {
          "model_module": "@jupyter-widgets/controls",
          "model_module_version": "1.5.0",
          "model_name": "FloatProgressModel",
          "state": {
            "_dom_classes": [],
            "_model_module": "@jupyter-widgets/controls",
            "_model_module_version": "1.5.0",
            "_model_name": "FloatProgressModel",
            "_view_count": null,
            "_view_module": "@jupyter-widgets/controls",
            "_view_module_version": "1.5.0",
            "_view_name": "ProgressView",
            "bar_style": "success",
            "description": "",
            "description_tooltip": null,
            "layout": "IPY_MODEL_cb7da1bc9ff14a28b7fcf3745cf7bb0d",
            "max": 10,
            "min": 0,
            "orientation": "horizontal",
            "style": "IPY_MODEL_32e5505fcfa847b3a24aa0edea4fc1ea",
            "value": 10
          }
        },
        "32e5505fcfa847b3a24aa0edea4fc1ea": {
          "model_module": "@jupyter-widgets/controls",
          "model_module_version": "1.5.0",
          "model_name": "ProgressStyleModel",
          "state": {
            "_model_module": "@jupyter-widgets/controls",
            "_model_module_version": "1.5.0",
            "_model_name": "ProgressStyleModel",
            "_view_count": null,
            "_view_module": "@jupyter-widgets/base",
            "_view_module_version": "1.2.0",
            "_view_name": "StyleView",
            "bar_color": null,
            "description_width": ""
          }
        },
        "43204e46b8bc4af6bfb4ae96fc53c76a": {
          "model_module": "@jupyter-widgets/base",
          "model_module_version": "1.2.0",
          "model_name": "LayoutModel",
          "state": {
            "_model_module": "@jupyter-widgets/base",
            "_model_module_version": "1.2.0",
            "_model_name": "LayoutModel",
            "_view_count": null,
            "_view_module": "@jupyter-widgets/base",
            "_view_module_version": "1.2.0",
            "_view_name": "LayoutView",
            "align_content": null,
            "align_items": null,
            "align_self": null,
            "border": null,
            "bottom": null,
            "display": null,
            "flex": null,
            "flex_flow": null,
            "grid_area": null,
            "grid_auto_columns": null,
            "grid_auto_flow": null,
            "grid_auto_rows": null,
            "grid_column": null,
            "grid_gap": null,
            "grid_row": null,
            "grid_template_areas": null,
            "grid_template_columns": null,
            "grid_template_rows": null,
            "height": null,
            "justify_content": null,
            "justify_items": null,
            "left": null,
            "margin": null,
            "max_height": null,
            "max_width": null,
            "min_height": null,
            "min_width": null,
            "object_fit": null,
            "object_position": null,
            "order": null,
            "overflow": null,
            "overflow_x": null,
            "overflow_y": null,
            "padding": null,
            "right": null,
            "top": null,
            "visibility": null,
            "width": null
          }
        },
        "6876ee7581734682b077c68bde26d06c": {
          "model_module": "@jupyter-widgets/controls",
          "model_module_version": "1.5.0",
          "model_name": "HTMLModel",
          "state": {
            "_dom_classes": [],
            "_model_module": "@jupyter-widgets/controls",
            "_model_module_version": "1.5.0",
            "_model_name": "HTMLModel",
            "_view_count": null,
            "_view_module": "@jupyter-widgets/controls",
            "_view_module_version": "1.5.0",
            "_view_name": "HTMLView",
            "description": "",
            "description_tooltip": null,
            "layout": "IPY_MODEL_71e627cc1d6040a4a618c98cb1407f59",
            "placeholder": "​",
            "style": "IPY_MODEL_81f1f67494b541b6b0d9c8fcd3d6d868",
            "value": "100%"
          }
        },
        "71e627cc1d6040a4a618c98cb1407f59": {
          "model_module": "@jupyter-widgets/base",
          "model_module_version": "1.2.0",
          "model_name": "LayoutModel",
          "state": {
            "_model_module": "@jupyter-widgets/base",
            "_model_module_version": "1.2.0",
            "_model_name": "LayoutModel",
            "_view_count": null,
            "_view_module": "@jupyter-widgets/base",
            "_view_module_version": "1.2.0",
            "_view_name": "LayoutView",
            "align_content": null,
            "align_items": null,
            "align_self": null,
            "border": null,
            "bottom": null,
            "display": null,
            "flex": null,
            "flex_flow": null,
            "grid_area": null,
            "grid_auto_columns": null,
            "grid_auto_flow": null,
            "grid_auto_rows": null,
            "grid_column": null,
            "grid_gap": null,
            "grid_row": null,
            "grid_template_areas": null,
            "grid_template_columns": null,
            "grid_template_rows": null,
            "height": null,
            "justify_content": null,
            "justify_items": null,
            "left": null,
            "margin": null,
            "max_height": null,
            "max_width": null,
            "min_height": null,
            "min_width": null,
            "object_fit": null,
            "object_position": null,
            "order": null,
            "overflow": null,
            "overflow_x": null,
            "overflow_y": null,
            "padding": null,
            "right": null,
            "top": null,
            "visibility": null,
            "width": null
          }
        },
        "81b322118f8f419da44ef6f33939324e": {
          "model_module": "@jupyter-widgets/base",
          "model_module_version": "1.2.0",
          "model_name": "LayoutModel",
          "state": {
            "_model_module": "@jupyter-widgets/base",
            "_model_module_version": "1.2.0",
            "_model_name": "LayoutModel",
            "_view_count": null,
            "_view_module": "@jupyter-widgets/base",
            "_view_module_version": "1.2.0",
            "_view_name": "LayoutView",
            "align_content": null,
            "align_items": null,
            "align_self": null,
            "border": null,
            "bottom": null,
            "display": null,
            "flex": null,
            "flex_flow": null,
            "grid_area": null,
            "grid_auto_columns": null,
            "grid_auto_flow": null,
            "grid_auto_rows": null,
            "grid_column": null,
            "grid_gap": null,
            "grid_row": null,
            "grid_template_areas": null,
            "grid_template_columns": null,
            "grid_template_rows": null,
            "height": null,
            "justify_content": null,
            "justify_items": null,
            "left": null,
            "margin": null,
            "max_height": null,
            "max_width": null,
            "min_height": null,
            "min_width": null,
            "object_fit": null,
            "object_position": null,
            "order": null,
            "overflow": null,
            "overflow_x": null,
            "overflow_y": null,
            "padding": null,
            "right": null,
            "top": null,
            "visibility": null,
            "width": null
          }
        },
        "81f1f67494b541b6b0d9c8fcd3d6d868": {
          "model_module": "@jupyter-widgets/controls",
          "model_module_version": "1.5.0",
          "model_name": "DescriptionStyleModel",
          "state": {
            "_model_module": "@jupyter-widgets/controls",
            "_model_module_version": "1.5.0",
            "_model_name": "DescriptionStyleModel",
            "_view_count": null,
            "_view_module": "@jupyter-widgets/base",
            "_view_module_version": "1.2.0",
            "_view_name": "StyleView",
            "description_width": ""
          }
        },
        "cb7da1bc9ff14a28b7fcf3745cf7bb0d": {
          "model_module": "@jupyter-widgets/base",
          "model_module_version": "1.2.0",
          "model_name": "LayoutModel",
          "state": {
            "_model_module": "@jupyter-widgets/base",
            "_model_module_version": "1.2.0",
            "_model_name": "LayoutModel",
            "_view_count": null,
            "_view_module": "@jupyter-widgets/base",
            "_view_module_version": "1.2.0",
            "_view_name": "LayoutView",
            "align_content": null,
            "align_items": null,
            "align_self": null,
            "border": null,
            "bottom": null,
            "display": null,
            "flex": null,
            "flex_flow": null,
            "grid_area": null,
            "grid_auto_columns": null,
            "grid_auto_flow": null,
            "grid_auto_rows": null,
            "grid_column": null,
            "grid_gap": null,
            "grid_row": null,
            "grid_template_areas": null,
            "grid_template_columns": null,
            "grid_template_rows": null,
            "height": null,
            "justify_content": null,
            "justify_items": null,
            "left": null,
            "margin": null,
            "max_height": null,
            "max_width": null,
            "min_height": null,
            "min_width": null,
            "object_fit": null,
            "object_position": null,
            "order": null,
            "overflow": null,
            "overflow_x": null,
            "overflow_y": null,
            "padding": null,
            "right": null,
            "top": null,
            "visibility": null,
            "width": null
          }
        },
        "e40ac959570349f1a7f6a9159d9d4599": {
          "model_module": "@jupyter-widgets/controls",
          "model_module_version": "1.5.0",
          "model_name": "HTMLModel",
          "state": {
            "_dom_classes": [],
            "_model_module": "@jupyter-widgets/controls",
            "_model_module_version": "1.5.0",
            "_model_name": "HTMLModel",
            "_view_count": null,
            "_view_module": "@jupyter-widgets/controls",
            "_view_module_version": "1.5.0",
            "_view_name": "HTMLView",
            "description": "",
            "description_tooltip": null,
            "layout": "IPY_MODEL_43204e46b8bc4af6bfb4ae96fc53c76a",
            "placeholder": "​",
            "style": "IPY_MODEL_049724aa50c549c0a034f324df6154ce",
            "value": " 10/10 [01:47&lt;00:00,  9.83s/it, ram_usage=18.9%]"
          }
        },
        "e8e6294726de4f0a88cc4c5cbb6a78b0": {
          "model_module": "@jupyter-widgets/controls",
          "model_module_version": "1.5.0",
          "model_name": "HBoxModel",
          "state": {
            "_dom_classes": [],
            "_model_module": "@jupyter-widgets/controls",
            "_model_module_version": "1.5.0",
            "_model_name": "HBoxModel",
            "_view_count": null,
            "_view_module": "@jupyter-widgets/controls",
            "_view_module_version": "1.5.0",
            "_view_name": "HBoxView",
            "box_style": "",
            "children": [
              "IPY_MODEL_6876ee7581734682b077c68bde26d06c",
              "IPY_MODEL_300d426573724b21939e32f574e00ae4",
              "IPY_MODEL_e40ac959570349f1a7f6a9159d9d4599"
            ],
            "layout": "IPY_MODEL_81b322118f8f419da44ef6f33939324e"
          }
        }
      }
    }
  },
  "nbformat": 4,
  "nbformat_minor": 0
}
